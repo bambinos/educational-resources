{
 "cells": [
  {
   "cell_type": "markdown",
   "metadata": {},
   "source": [
    "# Regression and Other Stories: Simple regression"
   ]
  },
  {
   "cell_type": "code",
   "execution_count": 1,
   "metadata": {},
   "outputs": [],
   "source": [
    "import arviz as az\n",
    "from bambi import Model, Prior\n",
    "import pandas as pd\n",
    "import numpy as np\n",
    "import matplotlib.pyplot as plt\n",
    "from scipy import stats\n"
   ]
  },
  {
   "cell_type": "code",
   "execution_count": 2,
   "metadata": {},
   "outputs": [],
   "source": [
    "az.style.use('arviz-grayscale')"
   ]
  },
  {
   "cell_type": "markdown",
   "metadata": {},
   "source": [
    "### Fitting a regression using a data frame in python"
   ]
  },
  {
   "cell_type": "markdown",
   "metadata": {},
   "source": [
    "#### Simulate fake data"
   ]
  },
  {
   "cell_type": "code",
   "execution_count": 22,
   "metadata": {},
   "outputs": [],
   "source": [
    "rng = np.random.default_rng(seed=42)"
   ]
  },
  {
   "cell_type": "code",
   "execution_count": 23,
   "metadata": {},
   "outputs": [],
   "source": [
    "# R is one indexed\n",
    "x = np.arange(1, 21)\n",
    "n = len(x)\n",
    "a = 0.2\n",
    "b = 0.3\n",
    "sigma = 0.5\n",
    "y = a + b * x + sigma * stats.norm().rvs(n, random_state=rng)\n"
   ]
  },
  {
   "cell_type": "code",
   "execution_count": 24,
   "metadata": {},
   "outputs": [
    {
     "data": {
      "text/html": [
       "<div>\n",
       "<style scoped>\n",
       "    .dataframe tbody tr th:only-of-type {\n",
       "        vertical-align: middle;\n",
       "    }\n",
       "\n",
       "    .dataframe tbody tr th {\n",
       "        vertical-align: top;\n",
       "    }\n",
       "\n",
       "    .dataframe thead th {\n",
       "        text-align: right;\n",
       "    }\n",
       "</style>\n",
       "<table border=\"1\" class=\"dataframe\">\n",
       "  <thead>\n",
       "    <tr style=\"text-align: right;\">\n",
       "      <th></th>\n",
       "      <th>x</th>\n",
       "      <th>y</th>\n",
       "    </tr>\n",
       "  </thead>\n",
       "  <tbody>\n",
       "    <tr>\n",
       "      <th>0</th>\n",
       "      <td>1</td>\n",
       "      <td>0.652359</td>\n",
       "    </tr>\n",
       "    <tr>\n",
       "      <th>1</th>\n",
       "      <td>2</td>\n",
       "      <td>0.280008</td>\n",
       "    </tr>\n",
       "    <tr>\n",
       "      <th>2</th>\n",
       "      <td>3</td>\n",
       "      <td>1.475226</td>\n",
       "    </tr>\n",
       "    <tr>\n",
       "      <th>3</th>\n",
       "      <td>4</td>\n",
       "      <td>1.870282</td>\n",
       "    </tr>\n",
       "    <tr>\n",
       "      <th>4</th>\n",
       "      <td>5</td>\n",
       "      <td>0.724482</td>\n",
       "    </tr>\n",
       "  </tbody>\n",
       "</table>\n",
       "</div>"
      ],
      "text/plain": [
       "   x         y\n",
       "0  1  0.652359\n",
       "1  2  0.280008\n",
       "2  3  1.475226\n",
       "3  4  1.870282\n",
       "4  5  0.724482"
      ]
     },
     "execution_count": 24,
     "metadata": {},
     "output_type": "execute_result"
    }
   ],
   "source": [
    "fake = pd.DataFrame({\"x\": x, \"y\": y})\n",
    "fake.head()"
   ]
  },
  {
   "cell_type": "markdown",
   "metadata": {},
   "source": [
    "#### Linear regression model"
   ]
  },
  {
   "cell_type": "code",
   "execution_count": 5,
   "metadata": {},
   "outputs": [
    {
     "name": "stderr",
     "output_type": "stream",
     "text": [
      "Auto-assigning NUTS sampler...\n",
      "Initializing NUTS using jitter+adapt_diag...\n",
      "Multiprocess sampling (4 chains in 4 jobs)\n",
      "NUTS: [y_sigma, Intercept, x]\n"
     ]
    },
    {
     "data": {
      "text/html": [
       "\n",
       "    <div>\n",
       "        <style>\n",
       "            /* Turns off some styling */\n",
       "            progress {\n",
       "                /* gets rid of default border in Firefox and Opera. */\n",
       "                border: none;\n",
       "                /* Needs to be in here for Safari polyfill so background images work as expected. */\n",
       "                background-size: auto;\n",
       "            }\n",
       "            .progress-bar-interrupted, .progress-bar-interrupted::-webkit-progress-bar {\n",
       "                background: #F44336;\n",
       "            }\n",
       "        </style>\n",
       "      <progress value='8000' class='' max='8000' style='width:300px; height:20px; vertical-align: middle;'></progress>\n",
       "      100.00% [8000/8000 00:04<00:00 Sampling 4 chains, 0 divergences]\n",
       "    </div>\n",
       "    "
      ],
      "text/plain": [
       "<IPython.core.display.HTML object>"
      ]
     },
     "metadata": {},
     "output_type": "display_data"
    },
    {
     "name": "stderr",
     "output_type": "stream",
     "text": [
      "Sampling 4 chains for 1_000 tune and 1_000 draw iterations (4_000 + 4_000 draws total) took 17 seconds.\n"
     ]
    }
   ],
   "source": [
    "model = Model(\"y ~ x\", data=fake)\n",
    "results = model.fit()\n"
   ]
  },
  {
   "cell_type": "code",
   "execution_count": 6,
   "metadata": {},
   "outputs": [
    {
     "data": {
      "text/html": [
       "<div>\n",
       "<style scoped>\n",
       "    .dataframe tbody tr th:only-of-type {\n",
       "        vertical-align: middle;\n",
       "    }\n",
       "\n",
       "    .dataframe tbody tr th {\n",
       "        vertical-align: top;\n",
       "    }\n",
       "\n",
       "    .dataframe thead th {\n",
       "        text-align: right;\n",
       "    }\n",
       "</style>\n",
       "<table border=\"1\" class=\"dataframe\">\n",
       "  <thead>\n",
       "    <tr style=\"text-align: right;\">\n",
       "      <th></th>\n",
       "      <th>Median</th>\n",
       "      <th>MAD_SD</th>\n",
       "    </tr>\n",
       "  </thead>\n",
       "  <tbody>\n",
       "    <tr>\n",
       "      <th>Intercept</th>\n",
       "      <td>-0.13</td>\n",
       "      <td>0.19</td>\n",
       "    </tr>\n",
       "    <tr>\n",
       "      <th>x</th>\n",
       "      <td>0.32</td>\n",
       "      <td>0.02</td>\n",
       "    </tr>\n",
       "    <tr>\n",
       "      <th>y_sigma</th>\n",
       "      <td>0.59</td>\n",
       "      <td>0.07</td>\n",
       "    </tr>\n",
       "  </tbody>\n",
       "</table>\n",
       "</div>"
      ],
      "text/plain": [
       "           Median  MAD_SD\n",
       "Intercept   -0.13    0.19\n",
       "x            0.32    0.02\n",
       "y_sigma      0.59    0.07"
      ]
     },
     "execution_count": 6,
     "metadata": {},
     "output_type": "execute_result"
    }
   ],
   "source": [
    "func_dict = {\n",
    "    \"Median\": np.median,\n",
    "    \"MAD_SD\": stats.median_abs_deviation,\n",
    "}\n",
    "\n",
    "coefs = az.summary(results, stat_funcs=func_dict, extend=False, round_to=2)\n",
    "coefs\n"
   ]
  },
  {
   "cell_type": "markdown",
   "metadata": {},
   "source": [
    "#### Plot for book"
   ]
  },
  {
   "cell_type": "code",
   "execution_count": 7,
   "metadata": {},
   "outputs": [
    {
     "data": {
      "image/png": "[encoded data removed]",
      "text/plain": [
       "<Figure size 720x480 with 1 Axes>"
      ]
     },
     "metadata": {},
     "output_type": "display_data"
    }
   ],
   "source": [
    "a_hat = coefs.loc[\"Intercept\", \"Median\"]\n",
    "b_hat = coefs.loc[\"x\", \"Median\"]\n",
    "\n",
    "fig, ax = plt.subplots()\n",
    "ax.plot(x, a_hat + b_hat * x)\n",
    "ax.scatter(x, y)\n",
    "\n",
    "x_bar = x.mean()\n",
    "ax.text(\n",
    "    x_bar,\n",
    "    a_hat + b_hat * x_bar,\n",
    "    f\"y = {np.round(a_hat, 2)} + {np.round(b_hat, 2)} * x\",\n",
    ");\n"
   ]
  },
  {
   "cell_type": "markdown",
   "metadata": {},
   "source": [
    "### Formulating comparisons as regression models"
   ]
  },
  {
   "cell_type": "markdown",
   "metadata": {},
   "source": [
    "#### SImulate fake data"
   ]
  },
  {
   "cell_type": "code",
   "execution_count": 8,
   "metadata": {},
   "outputs": [
    {
     "name": "stdout",
     "output_type": "stream",
     "text": [
      "[ 5.6  3.7 -1.8  2.3  6.8  0.2 -6.8  0.8  2.3  2.1  0.9  0.6 -0.9  1.1\n",
      " -8.  -5.3 -0.1 -6.9  5.6  5.4 -4.1 -2.3  6.9  0.5 -3.3 -1.2 -3.5  5.\n",
      "  8.7  5.4  0.8  6.5  4.6  5.7  0.3  0.6  3.9 -1.9  8.4  3.7  7.  -4.4\n",
      " -5.2  4.1 -2.6  0.2  1.9  0.7 12.4  1.6  3.1  0.  -2.8  0.6  1.   8.3\n",
      "  3.5 -1.4  1.4 -0.2  0.4 -2.5 -6.6 -1.6  3.3  0.1  6.1  4.6  4.8 -5.9\n",
      " -4.   3.6  6.5 10.6  5.4 -0.3 10.5  3.3  7.7  6.5 -2.3  8.  -1.7  3.6\n",
      "  8.2  4.4 -1.2 11.6 -4.  -9.3  2.   4.   0.7 11.6  1.6  5.   5.8  1.6\n",
      " -1.   0.5 -3.4  5.2  0.8 -0.2  6.7  9.6 -3.3 -1.   5.  -7.1  4.9  1.9\n",
      " -9.4  2.9 -1.8  3.3  8.1  1.  14.4  6.1  5.   5.6  6.9  0.3  4.   6.\n",
      " -0.9 -2.2 -2.1 10.5  5.8 -0.8  3.4 -2.1 -5.6  7.6  6.7  1.7  5.2 -0.3\n",
      "  5.6  0.4  1.7  5.9  6.3 -1.9  7.  -1.2 13.9  2.4 -4.7  1.3 -2.7 -2.\n",
      "  3.6 -0.1  0.9  0.9  2.1  6.8 -1.5 -1.6 -3.3 -2.3  0.2 -2.8  2.9 -0.5\n",
      "  5.9  0.4 10.8 -4.   2.7  3.5  3.5 -3.3  8.9 -2.   5.2  9.4  8.4  4.1\n",
      "  2.9  4.3 10.   2.4  1.2  0.6 -2.3  7.6  5.   7.8 -5.9  1.   5.3  2.8\n",
      "  1.2 -2.5 -2.   7.7]\n"
     ]
    }
   ],
   "source": [
    "n_0 = 200\n",
    "y_0 = stats.norm(2, 5).rvs(n_0)\n",
    "fake_0 = pd.DataFrame(dict(y_0=y_0))\n",
    "print(y_0.round(1))"
   ]
  },
  {
   "cell_type": "code",
   "execution_count": 9,
   "metadata": {},
   "outputs": [
    {
     "data": {
      "text/plain": [
       "2.1"
      ]
     },
     "execution_count": 9,
     "metadata": {},
     "output_type": "execute_result"
    }
   ],
   "source": [
    "np.round(y_0.mean(), 2)\n"
   ]
  },
  {
   "cell_type": "code",
   "execution_count": 10,
   "metadata": {},
   "outputs": [
    {
     "data": {
      "text/plain": [
       "0.32"
      ]
     },
     "execution_count": 10,
     "metadata": {},
     "output_type": "execute_result"
    }
   ],
   "source": [
    "np.round(y_0.std() / np.sqrt(n_0), 2)\n"
   ]
  },
  {
   "cell_type": "markdown",
   "metadata": {},
   "source": [
    "#### Estimating the mean is the same as regressing on a constant term"
   ]
  },
  {
   "cell_type": "code",
   "execution_count": 11,
   "metadata": {},
   "outputs": [
    {
     "name": "stderr",
     "output_type": "stream",
     "text": [
      "Auto-assigning NUTS sampler...\n",
      "Initializing NUTS using jitter+adapt_diag...\n",
      "Multiprocess sampling (4 chains in 4 jobs)\n",
      "NUTS: [y_0_sigma, Intercept]\n"
     ]
    },
    {
     "data": {
      "text/html": [
       "\n",
       "    <div>\n",
       "        <style>\n",
       "            /* Turns off some styling */\n",
       "            progress {\n",
       "                /* gets rid of default border in Firefox and Opera. */\n",
       "                border: none;\n",
       "                /* Needs to be in here for Safari polyfill so background images work as expected. */\n",
       "                background-size: auto;\n",
       "            }\n",
       "            .progress-bar-interrupted, .progress-bar-interrupted::-webkit-progress-bar {\n",
       "                background: #F44336;\n",
       "            }\n",
       "        </style>\n",
       "      <progress value='8000' class='' max='8000' style='width:300px; height:20px; vertical-align: middle;'></progress>\n",
       "      100.00% [8000/8000 00:02<00:00 Sampling 4 chains, 0 divergences]\n",
       "    </div>\n",
       "    "
      ],
      "text/plain": [
       "<IPython.core.display.HTML object>"
      ]
     },
     "metadata": {},
     "output_type": "display_data"
    },
    {
     "name": "stderr",
     "output_type": "stream",
     "text": [
      "Sampling 4 chains for 1_000 tune and 1_000 draw iterations (4_000 + 4_000 draws total) took 11 seconds.\n"
     ]
    }
   ],
   "source": [
    "priors = {\"y_0_sigma\": Prior(\"Flat\"), \"Intercept\": Prior(\"Flat\")}\n",
    "\n",
    "model = Model(\"y_0 ~ 1\", fake_0, priors=priors)\n",
    "results = model.fit()"
   ]
  },
  {
   "cell_type": "code",
   "execution_count": 12,
   "metadata": {},
   "outputs": [
    {
     "data": {
      "text/html": [
       "<div>\n",
       "<style scoped>\n",
       "    .dataframe tbody tr th:only-of-type {\n",
       "        vertical-align: middle;\n",
       "    }\n",
       "\n",
       "    .dataframe tbody tr th {\n",
       "        vertical-align: top;\n",
       "    }\n",
       "\n",
       "    .dataframe thead th {\n",
       "        text-align: right;\n",
       "    }\n",
       "</style>\n",
       "<table border=\"1\" class=\"dataframe\">\n",
       "  <thead>\n",
       "    <tr style=\"text-align: right;\">\n",
       "      <th></th>\n",
       "      <th>Median</th>\n",
       "      <th>MAD_SD</th>\n",
       "    </tr>\n",
       "  </thead>\n",
       "  <tbody>\n",
       "    <tr>\n",
       "      <th>Intercept</th>\n",
       "      <td>2.100</td>\n",
       "      <td>0.217</td>\n",
       "    </tr>\n",
       "    <tr>\n",
       "      <th>y_0_sigma</th>\n",
       "      <td>4.586</td>\n",
       "      <td>0.155</td>\n",
       "    </tr>\n",
       "  </tbody>\n",
       "</table>\n",
       "</div>"
      ],
      "text/plain": [
       "           Median  MAD_SD\n",
       "Intercept   2.100   0.217\n",
       "y_0_sigma   4.586   0.155"
      ]
     },
     "execution_count": 12,
     "metadata": {},
     "output_type": "execute_result"
    }
   ],
   "source": [
    "func_dict = {\n",
    "    \"Median\": np.median,\n",
    "    \"MAD_SD\": stats.median_abs_deviation,\n",
    "}\n",
    "\n",
    "coefs = az.summary(results, stat_funcs=func_dict, extend=False)\n",
    "coefs\n"
   ]
  },
  {
   "cell_type": "code",
   "execution_count": 13,
   "metadata": {},
   "outputs": [
    {
     "name": "stdout",
     "output_type": "stream",
     "text": [
      "6.188478010074283\n"
     ]
    }
   ],
   "source": [
    "n_1 = 300\n",
    "y_1 = stats.norm(8, 5).rvs(n_1)\n",
    "diff = y_1.mean() - y_0.mean()\n",
    "se_0 = y_0.std() / np.sqrt(n_0)\n",
    "se_1 = y_1.std() / np.sqrt(n_1)\n",
    "se = np.sqrt(se_0**2 + se_1**2)\n",
    "print(diff)"
   ]
  },
  {
   "cell_type": "code",
   "execution_count": 14,
   "metadata": {},
   "outputs": [
    {
     "name": "stdout",
     "output_type": "stream",
     "text": [
      "0.4482396246182889\n"
     ]
    }
   ],
   "source": [
    "print(se)"
   ]
  },
  {
   "cell_type": "markdown",
   "metadata": {},
   "source": [
    "#### Estimating a difference is the same as regressing on an indicator variable"
   ]
  },
  {
   "cell_type": "code",
   "execution_count": 15,
   "metadata": {},
   "outputs": [],
   "source": [
    "n = n_0 + n_1\n",
    "y = np.concatenate((y_0, y_1))\n",
    "x = np.concatenate((np.zeros(n_0), np.ones(n_1)))\n",
    "fake = pd.DataFrame(dict(y=y, x=x))"
   ]
  },
  {
   "cell_type": "code",
   "execution_count": 16,
   "metadata": {},
   "outputs": [
    {
     "name": "stderr",
     "output_type": "stream",
     "text": [
      "Auto-assigning NUTS sampler...\n",
      "Initializing NUTS using jitter+adapt_diag...\n",
      "Multiprocess sampling (4 chains in 4 jobs)\n",
      "NUTS: [y_sigma, Intercept, x]\n"
     ]
    },
    {
     "data": {
      "text/html": [
       "\n",
       "    <div>\n",
       "        <style>\n",
       "            /* Turns off some styling */\n",
       "            progress {\n",
       "                /* gets rid of default border in Firefox and Opera. */\n",
       "                border: none;\n",
       "                /* Needs to be in here for Safari polyfill so background images work as expected. */\n",
       "                background-size: auto;\n",
       "            }\n",
       "            .progress-bar-interrupted, .progress-bar-interrupted::-webkit-progress-bar {\n",
       "                background: #F44336;\n",
       "            }\n",
       "        </style>\n",
       "      <progress value='8000' class='' max='8000' style='width:300px; height:20px; vertical-align: middle;'></progress>\n",
       "      100.00% [8000/8000 00:04<00:00 Sampling 4 chains, 0 divergences]\n",
       "    </div>\n",
       "    "
      ],
      "text/plain": [
       "<IPython.core.display.HTML object>"
      ]
     },
     "metadata": {},
     "output_type": "display_data"
    },
    {
     "name": "stderr",
     "output_type": "stream",
     "text": [
      "Sampling 4 chains for 1_000 tune and 1_000 draw iterations (4_000 + 4_000 draws total) took 12 seconds.\n"
     ]
    }
   ],
   "source": [
    "priors = {\"y_0_sigma\": Prior(\"Flat\"), \"Intercept\": Prior(\"Flat\")}\n",
    "model = Model(\"y ~ x\", fake)\n",
    "results = model.fit()"
   ]
  },
  {
   "cell_type": "code",
   "execution_count": 17,
   "metadata": {},
   "outputs": [
    {
     "data": {
      "text/html": [
       "<div>\n",
       "<style scoped>\n",
       "    .dataframe tbody tr th:only-of-type {\n",
       "        vertical-align: middle;\n",
       "    }\n",
       "\n",
       "    .dataframe tbody tr th {\n",
       "        vertical-align: top;\n",
       "    }\n",
       "\n",
       "    .dataframe thead th {\n",
       "        text-align: right;\n",
       "    }\n",
       "</style>\n",
       "<table border=\"1\" class=\"dataframe\">\n",
       "  <thead>\n",
       "    <tr style=\"text-align: right;\">\n",
       "      <th></th>\n",
       "      <th>Median</th>\n",
       "      <th>MAD_SD</th>\n",
       "    </tr>\n",
       "  </thead>\n",
       "  <tbody>\n",
       "    <tr>\n",
       "      <th>Intercept</th>\n",
       "      <td>2.114</td>\n",
       "      <td>0.251</td>\n",
       "    </tr>\n",
       "    <tr>\n",
       "      <th>x</th>\n",
       "      <td>6.162</td>\n",
       "      <td>0.325</td>\n",
       "    </tr>\n",
       "    <tr>\n",
       "      <th>y_sigma</th>\n",
       "      <td>5.087</td>\n",
       "      <td>0.111</td>\n",
       "    </tr>\n",
       "  </tbody>\n",
       "</table>\n",
       "</div>"
      ],
      "text/plain": [
       "           Median  MAD_SD\n",
       "Intercept   2.114   0.251\n",
       "x           6.162   0.325\n",
       "y_sigma     5.087   0.111"
      ]
     },
     "execution_count": 17,
     "metadata": {},
     "output_type": "execute_result"
    }
   ],
   "source": [
    "func_dict = {\n",
    "    \"Median\": np.median,\n",
    "    \"MAD_SD\": stats.median_abs_deviation,\n",
    "}\n",
    "\n",
    "coefs = az.summary(results, stat_funcs=func_dict, extend=False)\n",
    "coefs\n"
   ]
  },
  {
   "cell_type": "markdown",
   "metadata": {},
   "source": [
    "### Plot for the book"
   ]
  },
  {
   "cell_type": "code",
   "execution_count": 18,
   "metadata": {},
   "outputs": [],
   "source": [
    "a_hat = coefs.loc[\"Intercept\", \"Median\"]\n",
    "b_hat = coefs.loc[\"x\", \"Median\"]\n",
    "x_bar = x.mean()\n",
    "y0 = y[x == 0].mean().round(2)\n",
    "y1 = y[x == 1].mean().round(2)"
   ]
  },
  {
   "cell_type": "code",
   "execution_count": 19,
   "metadata": {},
   "outputs": [
    {
     "data": {
      "image/png": "[encoded data removed]",
      "text/plain": [
       "<Figure size 720x480 with 1 Axes>"
      ]
     },
     "metadata": {},
     "output_type": "display_data"
    }
   ],
   "source": [
    "fig, ax = plt.subplots()\n",
    "ax.scatter(x, y)\n",
    "ax.set(xlabel=\"Indicator, x\", ylabel=\"y\", title=\"Regression on an indicator is the same\\nas computing a difference in means\")\n",
    "ax.axhline(y=y0, color=\"C3\", linestyle='dashed')\n",
    "ax.axhline(y=y1, color=\"C3\", linestyle='dashed')\n",
    "ax.plot(x, a_hat + b_hat * x)\n",
    "ax.text(\n",
    "    0.5,\n",
    "    -1 + a_hat + 0.5 * b_hat,\n",
    "    f\"y = {np.round(a_hat, 2)} + {np.round(b_hat, 2)} * x\",\n",
    ")\n",
    "ax.text(0.05, -1.5 + y[x == 0].mean(), f\"$\\\\bar{{y}}_0$ = {y0}\", color=\"gray\")\n",
    "ax.text(0.85, 1 + y[x == 1].mean(), f\"$\\\\bar{{y}}_1$ = {y1}\", color=\"gray\");"
   ]
  },
  {
   "cell_type": "code",
   "execution_count": null,
   "metadata": {},
   "outputs": [],
   "source": []
  }
 ],
 "metadata": {
  "kernelspec": {
   "display_name": "Python 3",
   "language": "python",
   "name": "python3"
  },
  "language_info": {
   "codemirror_mode": {
    "name": "ipython",
    "version": 3
   },
   "file_extension": ".py",
   "mimetype": "text/x-python",
   "name": "python",
   "nbconvert_exporter": "python",
   "pygments_lexer": "ipython3",
   "version": "3.9.7"
  }
 },
 "nbformat": 4,
 "nbformat_minor": 4
}
